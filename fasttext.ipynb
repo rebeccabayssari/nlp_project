{
 "cells": [
  {
   "cell_type": "code",
   "execution_count": null,
   "metadata": {},
   "outputs": [
    {
     "name": "stdout",
     "output_type": "stream",
     "text": [
      "Usage      0\n",
      "Text       0\n",
      "Label    500\n",
      "dtype: int64\n"
     ]
    }
   ],
   "source": [
    "import pandas as pd\n",
    "from sklearn.model_selection import train_test_split\n",
    "\n",
    "# Load the labeled training dataset\n",
    "df_train = pd.read_csv(\"train_submission.csv\")  \n",
    "# Check for missing values\n",
    "print(df_train.isnull().sum())  # Shows the number of NaN values per column\n",
    "df_train.dropna(subset=[\"Text\", \"Label\"], inplace=True)  # Remove rows with NaN in \"Text\" or \"Label\"\n",
    "\n",
    "# Count occurrences of each class\n",
    "class_counts = df_train[\"Label\"].value_counts()\n",
    "\n",
    "# Keep only classes with at least 2 samples\n",
    "valid_classes = class_counts[class_counts >= 2].index\n",
    "df_train = df_train[df_train[\"Label\"].isin(valid_classes)]\n",
    "\n",
    "# Ensure the dataset has the correct columns\n",
    "if \"Text\" not in df_train.columns or \"Label\" not in df_train.columns:\n",
    "    raise ValueError(\"Training dataset must have 'Text' and 'Label' columns.\")\n",
    "\n",
    "# Split into 80% training, 20% validation\n",
    "train_df, valid_df = train_test_split(df_train, test_size=0.2, random_state=42, stratify=df_train[\"Label\"])\n",
    "\n",
    "# Convert to FastText format\n",
    "train_df[\"formatted\"] = \"__label__\" + train_df[\"Label\"].astype(str) + \" \" + train_df[\"Text\"]\n",
    "valid_df[\"formatted\"] = \"__label__\" + valid_df[\"Label\"].astype(str) + \" \" + valid_df[\"Text\"]\n",
    "\n",
    "# Save to FastText format files\n",
    "train_df[\"formatted\"].to_csv(\"train_fasttext.txt\", index=False, header=False)\n",
    "valid_df[\"formatted\"].to_csv(\"valid_fasttext.txt\", index=False, header=False)\n"
   ]
  },
  {
   "cell_type": "code",
   "execution_count": 10,
   "metadata": {},
   "outputs": [],
   "source": [
    "import fasttext\n",
    "\n",
    "# Train FastText model on training data\n",
    "model = fasttext.train_supervised(\n",
    "    input=\"train_fasttext.txt\",\n",
    "    epoch=175,  # Adjust as needed\n",
    "    lr=0.5,  # Learning rate (adjustable)\n",
    "    wordNgrams=2,  # Use bigrams\n",
    "    verbose=2, \n",
    "    minCount=1,  # Minimum word occurrences\n",
    "    loss='softmax'  # Softmax for classification\n",
    ")\n"
   ]
  },
  {
   "cell_type": "code",
   "execution_count": 11,
   "metadata": {},
   "outputs": [
    {
     "name": "stdout",
     "output_type": "stream",
     "text": [
      "Validation Accuracy: 76.11%\n"
     ]
    }
   ],
   "source": [
    "# Read validation dataset\n",
    "valid_texts = valid_df[\"Text\"].tolist()\n",
    "true_labels = valid_df[\"Label\"].tolist()\n",
    "\n",
    "# Predict labels on validation set\n",
    "predicted_labels, probabilities = model.predict(valid_texts)\n",
    "\n",
    "# Convert predicted labels from \"__label__X\" format to just \"X\"\n",
    "predicted_labels = [label[0].replace(\"__label__\", \"\") for label in predicted_labels]\n",
    "\n",
    "# Compute Accuracy\n",
    "accuracy = sum([1 for true, pred in zip(true_labels, predicted_labels) if true == pred]) / len(true_labels)\n",
    "print(f\"Validation Accuracy: {accuracy:.2%}\")\n"
   ]
  },
  {
   "cell_type": "code",
   "execution_count": null,
   "metadata": {},
   "outputs": [
    {
     "name": "stdout",
     "output_type": "stream",
     "text": [
      "                                                Text  ID Label\n",
      "0  Hüttwilen el xe on comune del Canton Turgovia ...   1   ven\n",
      "1  La leĝo zorgas pri kompenso de nur la plej gra...   2   epo\n",
      "2               پک اپ پر اپنے ڈرائیور سے پہلے پہنچیں   3   urd\n",
      "3  Mukmu  Ch'itana mukmu icha Butun nisqaqa nisqa...   4   que\n",
      "4  Iwe   lon ena fansoun   lupwen ra aleani än Mo...   5   chk\n"
     ]
    }
   ],
   "source": [
    "import pandas as pd\n",
    "import fasttext\n",
    "\n",
    "# Load the test dataset\n",
    "df_test = pd.read_csv(\"test_without_labels.csv\", usecols=['Text'])\n",
    "\n",
    "# Ensure test dataset is preserved\n",
    "df_test = df_test.reset_index(drop=True)\n",
    "df_test[\"ID\"] = df_test.index + 1  # Assign unique IDs\n",
    "\n",
    "# Predict labels on the test dataset\n",
    "predicted_labels, probabilities = model.predict(df_test[\"Text\"].tolist())\n",
    "\n",
    "# Convert predicted labels from \"__label__X\" format to just \"X\"\n",
    "df_test[\"Label\"] = [label[0].replace(\"__label__\", \"\") for label in predicted_labels]\n",
    "\n",
    "# Save predictions to a CSV file\n",
    "df_test[[\"ID\", \"Label\"]].to_csv(\"test_predictions2.csv\", index=False)\n",
    "\n",
    "# Print first few predictions\n",
    "print(df_test.head())\n"
   ]
  }
 ],
 "metadata": {
  "kernelspec": {
   "display_name": "Python 3",
   "language": "python",
   "name": "python3"
  },
  "language_info": {
   "codemirror_mode": {
    "name": "ipython",
    "version": 3
   },
   "file_extension": ".py",
   "mimetype": "text/x-python",
   "name": "python",
   "nbconvert_exporter": "python",
   "pygments_lexer": "ipython3",
   "version": "3.12.7"
  }
 },
 "nbformat": 4,
 "nbformat_minor": 2
}
