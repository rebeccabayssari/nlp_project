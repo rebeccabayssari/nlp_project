{
 "cells": [
  {
   "cell_type": "code",
   "execution_count": 1,
   "metadata": {},
   "outputs": [],
   "source": [
    "import numpy as np\n",
    "import pandas as pd\n",
    "from sklearn.feature_extraction.text import TfidfVectorizer\n",
    "from sklearn.linear_model import LogisticRegression\n",
    "from sklearn.model_selection import train_test_split, GridSearchCV\n",
    "from sklearn.pipeline import Pipeline\n",
    "from sklearn.metrics import accuracy_score\n",
    "import joblib"
   ]
  },
  {
   "cell_type": "code",
   "execution_count": null,
   "metadata": {},
   "outputs": [],
   "source": [
    "# Chargement des données d'entraînement et de test\n",
    "train_data = pd.read_csv(\"train_submission.csv\", na_filter=False)\n",
    "test_data = pd.read_csv(\"test_without_labels.csv\")"
   ]
  },
  {
   "cell_type": "code",
   "execution_count": null,
   "metadata": {},
   "outputs": [],
   "source": [
    "import re\n",
    "#Pretraitement du dataset\n",
    "def preprocess_text(text):\n",
    "    # Convertir en minuscules\n",
    "    text = text.lower()\n",
    "    # Supprimer la ponctuation et les caractères spéciaux\n",
    "    text = re.sub(r'[^\\w\\s]', '', text)\n",
    "    return text\n",
    "\n",
    "train_data['Text'] = train_data['Text'].apply(preprocess_text)\n",
    "test_data['Text'] = test_data['Text'].apply(preprocess_text)"
   ]
  },
  {
   "cell_type": "code",
   "execution_count": null,
   "metadata": {},
   "outputs": [],
   "source": [
    "! pip install --upgrade scikit-learn==1.6.1\n"
   ]
  },
  {
   "cell_type": "code",
   "execution_count": null,
   "metadata": {},
   "outputs": [],
   "source": [
    "# Séparation des données en ensembles d'entraînement et de test\n",
    "X_train, X_valid, y_train, y_valid = train_test_split(train_data['Text'], train_data['Label'], test_size=0.2, random_state=42)"
   ]
  },
  {
   "cell_type": "code",
   "execution_count": 5,
   "metadata": {},
   "outputs": [],
   "source": [
    "# Création du pipeline avec TfidfVectorizer et LogisticRegression\n",
    "pipeline = Pipeline([\n",
    "    ('tfidf', TfidfVectorizer(analyzer='char')),\n",
    "    ('clf', LogisticRegression())\n",
    "])"
   ]
  },
  {
   "cell_type": "code",
   "execution_count": null,
   "metadata": {},
   "outputs": [
    {
     "name": "stdout",
     "output_type": "stream",
     "text": [
      "Fitting 3 folds for each of 10 candidates, totalling 30 fits\n"
     ]
    },
    {
     "name": "stderr",
     "output_type": "stream",
     "text": [
      "c:\\Users\\hp\\AppData\\Local\\Programs\\Python\\Python312\\Lib\\site-packages\\sklearn\\model_selection\\_split.py:805: UserWarning: The least populated class in y has only 1 members, which is less than n_splits=3.\n",
      "  warnings.warn(\n"
     ]
    },
    {
     "name": "stdout",
     "output_type": "stream",
     "text": [
      "Best Hyperparameters: {'clf__C': 9.83755518841459, 'tfidf__max_features': 14998, 'tfidf__ngram_range': (1, 4)}\n"
     ]
    },
    {
     "name": "stderr",
     "output_type": "stream",
     "text": [
      "c:\\Users\\hp\\AppData\\Local\\Programs\\Python\\Python312\\Lib\\site-packages\\sklearn\\linear_model\\_logistic.py:465: ConvergenceWarning: lbfgs failed to converge (status=1):\n",
      "STOP: TOTAL NO. of ITERATIONS REACHED LIMIT.\n",
      "\n",
      "Increase the number of iterations (max_iter) or scale the data as shown in:\n",
      "    https://scikit-learn.org/stable/modules/preprocessing.html\n",
      "Please also refer to the documentation for alternative solver options:\n",
      "    https://scikit-learn.org/stable/modules/linear_model.html#logistic-regression\n",
      "  n_iter_i = _check_optimize_result(\n"
     ]
    }
   ],
   "source": [
    "from sklearn.model_selection import RandomizedSearchCV\n",
    "from scipy.stats import uniform, randint\n",
    "# definition des parametres\n",
    "param_distributions = {\n",
    "    'tfidf__ngram_range': [(1, 2), (1, 3), (1, 4), (2, 3), (2, 4)],\n",
    "    'tfidf__max_features': randint(5000, 15000),\n",
    "    'clf__C': uniform(0.1, 10)\n",
    "}\n",
    "\n",
    "# utilisation de RandomizedSearchCV\n",
    "random_search = RandomizedSearchCV(\n",
    "    pipeline,\n",
    "    param_distributions=param_distributions,\n",
    "    n_iter=10,  # nombre de combinaison a essayer\n",
    "    cv=3,      \n",
    "    scoring='accuracy',\n",
    "    verbose=3,\n",
    "    n_jobs=-1, #utiliser 100% du cpu\n",
    "    random_state=42\n",
    ")\n",
    "\n",
    "# entrainement\n",
    "random_search.fit(X_train, y_train)\n",
    "# meuilleurs hyperparametres\n",
    "print(\"Best Hyperparameters:\", random_search.best_params_)"
   ]
  },
  {
   "cell_type": "code",
   "execution_count": 4,
   "metadata": {},
   "outputs": [
    {
     "name": "stdout",
     "output_type": "stream",
     "text": [
      "scikit-learn version: 1.6.1\n",
      "pandas version: 2.2.3\n"
     ]
    }
   ],
   "source": [
    "import sklearn\n",
    "import pandas as pd\n",
    "\n",
    "print(\"scikit-learn version:\", sklearn.__version__)\n",
    "print(\"pandas version:\", pd.__version__)"
   ]
  },
  {
   "cell_type": "code",
   "execution_count": null,
   "metadata": {},
   "outputs": [
    {
     "name": "stdout",
     "output_type": "stream",
     "text": [
      "Accuracy on Test Set: 0.839\n"
     ]
    }
   ],
   "source": [
    "\n",
    "\n",
    "# evaluation sur le set de validation\n",
    "best_model = random_search.best_estimator_\n",
    "y_pred = best_model.predict(X_valid)\n",
    "accuracy = accuracy_score(y_valid, y_pred)\n",
    "print(f\"Accuracy on validation Set: {accuracy:.3f}\")"
   ]
  },
  {
   "cell_type": "code",
   "execution_count": null,
   "metadata": {},
   "outputs": [
    {
     "name": "stdout",
     "output_type": "stream",
     "text": [
      "     Usage                                               Text  ID Label\n",
      "0  Private  hüttwilen el xe on comune del canton turgovia ...   1   ven\n",
      "1  Private  la leĝo zorgas pri kompenso de nur la plej gra...   2   epo\n",
      "2  Private               پک اپ پر اپنے ڈرائیور سے پہلے پہنچیں   3   urd\n",
      "3  Private  mukmu  chitana mukmu icha butun nisqaqa nisqaq...   4   quy\n",
      "4  Private  iwe   lon ena fansoun   lupwen ra aleani än mo...   5   chk\n"
     ]
    }
   ],
   "source": [
    "# prediction des labels sur le test set\n",
    "test_data[\"ID\"] = test_data.index + 1  # IDs uniques\n",
    "test_data[\"Label\"] = best_model.predict(test_data[\"Text\"])\n",
    "\n",
    "# sauvegarder les resultats dans un csv file\n",
    "test_data[[\"ID\", \"Label\"]].to_csv(\"test_predictions3.csv\", index=False)\n",
    "\n",
    "print(test_data.head())"
   ]
  }
 ],
 "metadata": {
  "kernelspec": {
   "display_name": "Python 3",
   "language": "python",
   "name": "python3"
  },
  "language_info": {
   "codemirror_mode": {
    "name": "ipython",
    "version": 3
   },
   "file_extension": ".py",
   "mimetype": "text/x-python",
   "name": "python",
   "nbconvert_exporter": "python",
   "pygments_lexer": "ipython3",
   "version": "3.12.7"
  }
 },
 "nbformat": 4,
 "nbformat_minor": 2
}
